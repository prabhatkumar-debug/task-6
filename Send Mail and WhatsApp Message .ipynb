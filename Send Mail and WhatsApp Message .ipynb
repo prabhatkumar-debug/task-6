{
 "cells": [
  {
   "cell_type": "markdown",
   "id": "01a7a9f5",
   "metadata": {},
   "source": [
    "# Step 1 Collecting the dataset"
   ]
  },
  {
   "cell_type": "code",
   "execution_count": null,
   "id": "7448a36d",
   "metadata": {},
   "outputs": [],
   "source": [
    "import cv2\n",
    "import numpy as np\n",
    "\n",
    "face_classifier = cv2.CascadeClassifier('haarcascade_frontalface_default.xml')\n",
    "\n",
    "\n",
    "def face_extractor(img):\n",
    "    print(img.shape)\n",
    "    gray = cv2.cvtColor(img,cv2.COLOR_BGR2GRAY)\n",
    "    print(gray.shape)\n",
    "    faces = face_classifier.detectMultiScale(gray,2,5)\n",
    "    print(\"hello\")\n",
    "    if faces is ():\n",
    "        return None\n",
    "    # Crop all faces found\n",
    "    for (x,y,w,h) in faces:\n",
    "        cropped_face = img[y:y+h, x:x+w]\n",
    "    return cropped_face\n",
    "\n"
   ]
  },
  {
   "cell_type": "markdown",
   "id": "30e81d13",
   "metadata": {},
   "source": [
    "# Collecting dataset of user1"
   ]
  },
  {
   "cell_type": "code",
   "execution_count": null,
   "id": "c7b8acda",
   "metadata": {},
   "outputs": [],
   "source": [
    "cap = cv2.VideoCapture(0)\n",
    "count = 0\n",
    "\n",
    "while True:\n",
    "    ret, frame = cap.read()\n",
    "    print(\"hello\")\n",
    "    print(ret)\n",
    "    if face_extractor(frame) is not None:\n",
    "        count += 1\n",
    "        face = cv2.resize(face_extractor(frame), (300, 300))\n",
    "        face = cv2.cvtColor(face, cv2.COLOR_BGR2GRAY)\n",
    "        file_name_path = './python/faces/user/' +str(count)+'.jpg'\n",
    "        cv2.imwrite(file_name_path, face)\n",
    "        cv2.putText(face, str(count), (50, 50), cv2.FONT_HERSHEY_COMPLEX, 1, (0,255,0), 2)\n",
    "        cv2.imshow('Face Cropper', face)\n",
    "    else:\n",
    "        print(\"Face not found\")\n",
    "        pass\n",
    "    if cv2.waitKey(1) == 13 or count == 100:\n",
    "        break\n",
    "cap.release()\n",
    "cv2.destroyAllWindows()      \n",
    "print(\"Collecting   user1 Samples Complete \")"
   ]
  },
  {
   "cell_type": "markdown",
   "id": "ad67dfdc",
   "metadata": {},
   "source": [
    "# Collecting dataset of user2"
   ]
  },
  {
   "cell_type": "code",
   "execution_count": null,
   "id": "0c205e4f",
   "metadata": {},
   "outputs": [],
   "source": [
    "cap = cv2.VideoCapture(0)\n",
    "count = 0\n",
    "\n",
    "while True:\n",
    "    ret, frame = cap.read()\n",
    "    print(\"hello\")\n",
    "    print(ret)\n",
    "    if face_extractor(frame) is not None:\n",
    "        count += 1\n",
    "        face = cv2.resize(face_extractor(frame), (300, 300))\n",
    "        face = cv2.cvtColor(face, cv2.COLOR_BGR2GRAY)\n",
    "        file_name_path = './python/faces/user1/' +str(count)+'.jpg'\n",
    "        cv2.imwrite(file_name_path, face)\n",
    "        cv2.putText(face, str(count), (50, 50), cv2.FONT_HERSHEY_COMPLEX, 1, (0,255,0), 2)\n",
    "        cv2.imshow('Face Cropper', face)\n",
    "    else:\n",
    "        print(\"Face not found\")\n",
    "        pass\n",
    "    if cv2.waitKey(1) == 13 or count == 100:\n",
    "        break\n",
    "cap.release()\n",
    "cv2.destroyAllWindows()      \n",
    "print(\"Collecting   user2 Samples Complete \")"
   ]
  },
  {
   "cell_type": "code",
   "execution_count": null,
   "id": "b87caf1f",
   "metadata": {},
   "outputs": [],
   "source": [
    "cap.release()"
   ]
  },
  {
   "cell_type": "markdown",
   "id": "4785cd35",
   "metadata": {},
   "source": [
    "# Step 2 - Train Model"
   ]
  },
  {
   "cell_type": "code",
   "execution_count": null,
   "id": "e3207b75",
   "metadata": {},
   "outputs": [],
   "source": [
    "import cv2\n",
    "import numpy as np\n",
    "from os import listdir\n",
    "from os.path import isfile, join\n"
   ]
  },
  {
   "cell_type": "markdown",
   "id": "d63c35f6",
   "metadata": {},
   "source": [
    "# Train Model for user1"
   ]
  },
  {
   "cell_type": "code",
   "execution_count": null,
   "id": "bf0fae4a",
   "metadata": {},
   "outputs": [],
   "source": [
    "\n",
    "data_path = './python/faces/user/'\n",
    "onlyfiles = [f for f in listdir(data_path) if isfile(join(data_path, f))]\n",
    "\n",
    "Training_Data, Labels = [], []\n",
    "\n",
    "for i, files in enumerate(onlyfiles):\n",
    "    image_path = data_path + onlyfiles[i]\n",
    "    images = cv2.imread(image_path, cv2.IMREAD_GRAYSCALE)\n",
    "    Training_Data.append(np.asarray(images, dtype=np.uint8))\n",
    "    Labels.append(i)\n",
    "\n",
    "Labels = np.asarray(Labels, dtype=np.int32)\n",
    "\n",
    "user1_model  = cv2.face_LBPHFaceRecognizer.create()\n",
    "user1_model.train(np.asarray(Training_Data), np.asarray(Labels))\n",
    "print(\"User1 Model trained sucessefully\")"
   ]
  },
  {
   "cell_type": "markdown",
   "id": "524294ce",
   "metadata": {},
   "source": [
    "# Train Model for user2"
   ]
  },
  {
   "cell_type": "code",
   "execution_count": null,
   "id": "c1407b90",
   "metadata": {},
   "outputs": [],
   "source": [
    "data_path = './python/faces/user1/'\n",
    "onlyfiles = [f for f in listdir(data_path) if isfile(join(data_path, f))]\n",
    "\n",
    "Training_Data, Labels = [], []\n",
    "\n",
    "for i, files in enumerate(onlyfiles):\n",
    "    image_path = data_path + onlyfiles[i]\n",
    "    images = cv2.imread(image_path, cv2.IMREAD_GRAYSCALE)\n",
    "    Training_Data.append(np.asarray(images, dtype=np.uint8))\n",
    "    Labels.append(i)\n",
    "\n",
    "Labels = np.asarray(Labels, dtype=np.int32)\n",
    "\n",
    "user2_model  = cv2.face_LBPHFaceRecognizer.create()\n",
    "user2_model.train(np.asarray(Training_Data), np.asarray(Labels))\n",
    "print(\"User2 Model trained sucessefully\")"
   ]
  },
  {
   "cell_type": "markdown",
   "id": "a36b76cf",
   "metadata": {},
   "source": [
    "# Step 3 - Run Our Facial Recognition"
   ]
  },
  {
   "cell_type": "code",
   "execution_count": null,
   "id": "c4bd9039",
   "metadata": {},
   "outputs": [],
   "source": [
    "import cv2\n",
    "import numpy as np\n",
    "from os import listdir\n",
    "from os.path import isfile, join\n",
    "import test1234\n",
    "import os\n",
    "import time\n",
    "import threading"
   ]
  },
  {
   "cell_type": "code",
   "execution_count": null,
   "id": "0ce5bdf5",
   "metadata": {},
   "outputs": [],
   "source": [
    "face_classifier = cv2.CascadeClassifier('haarcascade_frontalface_default.xml')\n"
   ]
  },
  {
   "cell_type": "code",
   "execution_count": null,
   "id": "14680d15",
   "metadata": {},
   "outputs": [],
   "source": [
    "def face_detector(img, size=0.5):\n",
    "    gray = cv2.cvtColor(img,cv2.COLOR_BGR2GRAY)\n",
    "    faces = face_classifier.detectMultiScale(gray, 1.3, 5)\n",
    "    if faces is ():\n",
    "        return img, []\n",
    "      \n",
    "    for (x,y,w,h) in faces:\n",
    "        cv2.rectangle(img,(x,y),(x+w,y+h),(0,255,255),2)\n",
    "        roi = img[y:y+h, x:x+w]\n",
    "        roi = cv2.resize(roi, (200, 200))\n",
    "    return img, roi\n"
   ]
  },
  {
   "cell_type": "code",
   "execution_count": null,
   "id": "00a16576",
   "metadata": {},
   "outputs": [],
   "source": [
    "cap = cv2.VideoCapture(0)\n",
    "\n",
    "while True :\n",
    "\n",
    "    ret, frame = cap.read()\n",
    "    \n",
    "    image, face = face_detector(frame)\n",
    "    \n",
    "    try:\n",
    "        face = cv2.cvtColor(face, cv2.COLOR_BGR2GRAY)\n",
    "\n",
    "        results1 = user1_model.predict(face)\n",
    "        results2 = user2_model.predict(face)\n",
    "\n",
    "        if results1[1] < 500:\n",
    "            confidence1 = int( 100 * (1 - (results1[1])/400) )\n",
    "            display_string = str(confidence1) + '% Confident it is User'\n",
    "        \n",
    "        if results2[1] < 500:\n",
    "            confidence2 = int( 100 * (1 - (results2[1])/400) )\n",
    "            display_string = str(confidence2) + '% Confident it is User'\n",
    "            \n",
    "        cv2.putText(image, display_string, (100, 120), cv2.FONT_HERSHEY_COMPLEX, 1, (255,120,150), 2)\n",
    "        \n",
    "        if confidence1 > 80:\n",
    "            cv2.putText(image, \"Hey Gargi\", (250, 450), cv2.FONT_HERSHEY_COMPLEX, 1, (0,255,0), 2)\n",
    "            cv2.imshow('Face Recognition', image )\n",
    "            whatsapp=threading.Thread(target=test1234.whatsapp())\n",
    "            whatsapp.start()\n",
    "            mail=threading.Thread(target=test1234.mail())\n",
    "            mail.start()\n",
    "                                   \n",
    "        \n",
    "        if confidence2 > 80:\n",
    "            cv2.putText(image, \"Hey Ironman\", (250, 450), cv2.FONT_HERSHEY_COMPLEX, 1, (0,255,0), 2)\n",
    "            cv2.imshow('Face Recognition', image )\n",
    "            ec2instance=threading.Thread(target=test1234.ec2instance())\n",
    "            ec2instance.start()\n",
    "            ebsvolume=threading.Thread(target=test1234.ebsvolume())\n",
    "            ebsvolume.start()\n",
    "\n",
    "        else:\n",
    "            cv2.putText(image, \"I dont know, how r u\", (250, 450), cv2.FONT_HERSHEY_COMPLEX, 1, (0,0,255), 2)\n",
    "            cv2.imshow('Face Recognition', image )\n",
    "\n",
    "    except:\n",
    "        cv2.putText(image, \"No Face Found\", (220, 120) , cv2.FONT_HERSHEY_COMPLEX, 1, (0,0,255), 2)\n",
    "        cv2.putText(image, \"looking for face\", (250, 450), cv2.FONT_HERSHEY_COMPLEX, 1, (0,0,255), 2)\n",
    "        cv2.imshow('Face Recognition', image )\n",
    "        pass\n",
    "        \n",
    "    if cv2.waitKey(1) == 13: #13 is the Enter Key\n",
    "        break\n",
    "    \n",
    "cap.release()\n",
    "cv2.destroyAllWindows() \n",
    "\n"
   ]
  },
  {
   "cell_type": "code",
   "execution_count": null,
   "id": "09103f9b",
   "metadata": {},
   "outputs": [],
   "source": [
    "cap.release()\n",
    "\n",
    "\n",
    "\n"
   ]
  },
  {
   "cell_type": "code",
   "execution_count": null,
   "id": "3d97e44a",
   "metadata": {},
   "outputs": [],
   "source": [
    "cap"
   ]
  },
  {
   "cell_type": "code",
   "execution_count": null,
   "id": "9a1a458d",
   "metadata": {},
   "outputs": [],
   "source": [
    "if a==1:\n",
    "    #whatsapp=threading.Thread(target=test1234.whatsapp())\n",
    "    #whatsapp.start()\n",
    "    #mail=threading.Thread(target=test1234.mail())\n",
    "    #mail.start()\n",
    "    pass\n",
    "elif b==1:\n",
    "    \n",
    "else:\n",
    "    pass"
   ]
  }
 ],
 "metadata": {
  "kernelspec": {
   "display_name": "Python 3",
   "language": "python",
   "name": "python3"
  },
  "language_info": {
   "codemirror_mode": {
    "name": "ipython",
    "version": 3
   },
   "file_extension": ".py",
   "mimetype": "text/x-python",
   "name": "python",
   "nbconvert_exporter": "python",
   "pygments_lexer": "ipython3",
   "version": "3.6.2"
  }
 },
 "nbformat": 4,
 "nbformat_minor": 5
}
